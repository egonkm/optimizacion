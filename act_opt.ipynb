{
 "cells": [
  {
   "cell_type": "markdown",
   "metadata": {},
   "source": [
    "# Actividad Optimización\n",
    "\n",
    "Egon Kirchof Mazera\n",
    "\n",
    "https://github.com/egonkm/optimizacion\n"
   ]
  },
  {
   "cell_type": "code",
   "execution_count": 51,
   "metadata": {},
   "outputs": [],
   "source": [
    "import pandas as pd\n",
    "import sys\n",
    "from itertools import combinations\n",
    "from pprint import pprint"
   ]
  },
  {
   "cell_type": "markdown",
   "metadata": {},
   "source": [
    "# Leer los datos"
   ]
  },
  {
   "cell_type": "code",
   "execution_count": 134,
   "metadata": {},
   "outputs": [
    {
     "data": {
      "text/html": [
       "<div>\n",
       "<style scoped>\n",
       "    .dataframe tbody tr th:only-of-type {\n",
       "        vertical-align: middle;\n",
       "    }\n",
       "\n",
       "    .dataframe tbody tr th {\n",
       "        vertical-align: top;\n",
       "    }\n",
       "\n",
       "    .dataframe thead th {\n",
       "        text-align: right;\n",
       "    }\n",
       "</style>\n",
       "<table border=\"1\" class=\"dataframe\">\n",
       "  <thead>\n",
       "    <tr style=\"text-align: right;\">\n",
       "      <th></th>\n",
       "      <th>Toma</th>\n",
       "      <th>1</th>\n",
       "      <th>2</th>\n",
       "      <th>3</th>\n",
       "      <th>4</th>\n",
       "      <th>5</th>\n",
       "      <th>6</th>\n",
       "      <th>7</th>\n",
       "      <th>8</th>\n",
       "      <th>9</th>\n",
       "      <th>10</th>\n",
       "      <th>Unnamed: 11</th>\n",
       "      <th>Total</th>\n",
       "    </tr>\n",
       "  </thead>\n",
       "  <tbody>\n",
       "    <tr>\n",
       "      <th>0</th>\n",
       "      <td>1</td>\n",
       "      <td>1</td>\n",
       "      <td>1</td>\n",
       "      <td>1</td>\n",
       "      <td>1</td>\n",
       "      <td>1</td>\n",
       "      <td>0</td>\n",
       "      <td>0</td>\n",
       "      <td>0</td>\n",
       "      <td>0</td>\n",
       "      <td>0</td>\n",
       "      <td>NaN</td>\n",
       "      <td>5</td>\n",
       "    </tr>\n",
       "    <tr>\n",
       "      <th>1</th>\n",
       "      <td>2</td>\n",
       "      <td>0</td>\n",
       "      <td>0</td>\n",
       "      <td>1</td>\n",
       "      <td>1</td>\n",
       "      <td>1</td>\n",
       "      <td>0</td>\n",
       "      <td>0</td>\n",
       "      <td>0</td>\n",
       "      <td>0</td>\n",
       "      <td>0</td>\n",
       "      <td>NaN</td>\n",
       "      <td>3</td>\n",
       "    </tr>\n",
       "    <tr>\n",
       "      <th>2</th>\n",
       "      <td>3</td>\n",
       "      <td>0</td>\n",
       "      <td>1</td>\n",
       "      <td>0</td>\n",
       "      <td>0</td>\n",
       "      <td>1</td>\n",
       "      <td>0</td>\n",
       "      <td>1</td>\n",
       "      <td>0</td>\n",
       "      <td>0</td>\n",
       "      <td>0</td>\n",
       "      <td>NaN</td>\n",
       "      <td>3</td>\n",
       "    </tr>\n",
       "    <tr>\n",
       "      <th>3</th>\n",
       "      <td>4</td>\n",
       "      <td>1</td>\n",
       "      <td>1</td>\n",
       "      <td>0</td>\n",
       "      <td>0</td>\n",
       "      <td>0</td>\n",
       "      <td>0</td>\n",
       "      <td>1</td>\n",
       "      <td>1</td>\n",
       "      <td>0</td>\n",
       "      <td>0</td>\n",
       "      <td>NaN</td>\n",
       "      <td>4</td>\n",
       "    </tr>\n",
       "    <tr>\n",
       "      <th>4</th>\n",
       "      <td>5</td>\n",
       "      <td>0</td>\n",
       "      <td>1</td>\n",
       "      <td>0</td>\n",
       "      <td>1</td>\n",
       "      <td>0</td>\n",
       "      <td>0</td>\n",
       "      <td>0</td>\n",
       "      <td>1</td>\n",
       "      <td>0</td>\n",
       "      <td>0</td>\n",
       "      <td>NaN</td>\n",
       "      <td>3</td>\n",
       "    </tr>\n",
       "  </tbody>\n",
       "</table>\n",
       "</div>"
      ],
      "text/plain": [
       "   Toma  1  2  3  4  5  6  7  8  9  10  Unnamed: 11  Total\n",
       "0     1  1  1  1  1  1  0  0  0  0   0          NaN      5\n",
       "1     2  0  0  1  1  1  0  0  0  0   0          NaN      3\n",
       "2     3  0  1  0  0  1  0  1  0  0   0          NaN      3\n",
       "3     4  1  1  0  0  0  0  1  1  0   0          NaN      4\n",
       "4     5  0  1  0  1  0  0  0  1  0   0          NaN      3"
      ]
     },
     "execution_count": 134,
     "metadata": {},
     "output_type": "execute_result"
    }
   ],
   "source": [
    "\n",
    "# Aumentamos el límite de recursión porque el backtracking puede ser muy profundo\n",
    "sys.setrecursionlimit(10000)\n",
    "\n",
    "ARCHIVO = \"datos.csv\"\n",
    "df = pd.read_csv(ARCHIVO)\n",
    "TOMAS, ACTORES = df.shape\n",
    "ACTORES = ACTORES - 3\n",
    "\n",
    "df.head()"
   ]
  },
  {
   "cell_type": "code",
   "execution_count": 135,
   "metadata": {},
   "outputs": [
    {
     "name": "stdout",
     "output_type": "stream",
     "text": [
      "Actores: ['1', '2', '3', '4', '5', '6', '7', '8', '9', '10']\n",
      "Tomas: [1, 2, 3, 4, 5, 6, 7, 8, 9, 10, 11, 12, 13, 14, 15, 16, 17, 18, 19, 20, 21, 22, 23, 24, 25, 26, 27, 28, 29, 30]\n",
      "Actores en toma:\n",
      "{1: [1, 2, 3, 4, 5],\n",
      " 2: [3, 4, 5],\n",
      " 3: [2, 5, 7],\n",
      " 4: [1, 2, 7, 8],\n",
      " 5: [2, 4, 8],\n",
      " 6: [1, 2, 4, 5],\n",
      " 7: [1, 2, 4, 5],\n",
      " 8: [1, 2, 6],\n",
      " 9: [1, 2, 4],\n",
      " 10: [1, 2, 6, 9],\n",
      " 11: [1, 2, 3, 5, 8],\n",
      " 12: [1, 2, 3, 4, 6],\n",
      " 13: [1, 4, 5],\n",
      " 14: [1, 3, 6],\n",
      " 15: [1, 2, 7],\n",
      " 16: [4, 10],\n",
      " 17: [1, 3],\n",
      " 18: [3, 6],\n",
      " 19: [1, 3],\n",
      " 20: [1, 3, 4, 5],\n",
      " 21: [6, 8],\n",
      " 22: [1, 2, 3, 4],\n",
      " 23: [1, 3],\n",
      " 24: [3, 6],\n",
      " 25: [1, 2, 4, 10],\n",
      " 26: [1, 3, 5, 9],\n",
      " 27: [4, 5],\n",
      " 28: [1, 4],\n",
      " 29: [1, 5, 6],\n",
      " 30: [1, 4]}\n"
     ]
    }
   ],
   "source": [
    "actores = [str(idx) for idx in range(1, ACTORES+1)]\n",
    "tomas = list(range(1, TOMAS+1))\n",
    "actores_en_toma = dict()\n",
    "\n",
    "for _, row in df.iterrows():\n",
    "    t = int(row['Toma'])\n",
    "    l_actores = [int(col) for col in actores if int(row[col]) == 1]\n",
    "    actores_en_toma[t] = l_actores\n",
    "\n",
    "print(\"Actores:\", actores)\n",
    "print(\"Tomas:\", tomas)\n",
    "print(\"Actores en toma:\")\n",
    "pprint(actores_en_toma)\n"
   ]
  },
  {
   "cell_type": "markdown",
   "metadata": {},
   "source": [
    "# Fuerza bruta"
   ]
  },
  {
   "cell_type": "code",
   "execution_count": 136,
   "metadata": {},
   "outputs": [],
   "source": [
    "def calcular_coste(programacion, actores_por_toma, num_actores):\n",
    " \n",
    "    dias_por_actor = [0] * (num_actores + 1)\n",
    "    for dia in programacion:\n",
    "        presentes = set()\n",
    "        for t in dia:\n",
    "            presentes.update(actores_por_toma[t])\n",
    "        for a in presentes:\n",
    "            dias_por_actor[a] += 1\n",
    "    return sum(dias_por_actor[1:])\n",
    "\n",
    "def backtrack(pendientes, programacion_actual, actores_por_toma, solucion):\n",
    "\n",
    "    if not pendientes:\n",
    "        coste = calcular_coste(programacion_actual, actores_por_toma, ACTORES)\n",
    "        if coste < solucion[\"mejor_coste\"]:\n",
    "            print(\"Mejor encontrado:\", coste)\n",
    "            solucion[\"mejor_coste\"] = coste\n",
    "            solucion[\"mejor_solucion\"] = [list(d) for d in programacion_actual]\n",
    "        return\n",
    "\n",
    "    siguiente = pendientes[0]\n",
    "    resto = pendientes[1:]\n",
    "\n",
    "    # Intentar añadir a días existentes\n",
    "    for i in range(len(programacion_actual)):\n",
    "        if len(programacion_actual[i]) < 6:\n",
    "            programacion_actual[i].append(siguiente)\n",
    "            backtrack(resto, programacion_actual, actores_por_toma, solucion)\n",
    "            programacion_actual[i].pop()\n",
    "\n",
    "    # O crear un nuevo día\n",
    "    if len(programacion_actual) < len(pendientes):\n",
    "        programacion_actual.append([siguiente])\n",
    "        backtrack(resto, programacion_actual, actores_por_toma, solucion)\n",
    "        programacion_actual.pop()\n"
   ]
  },
  {
   "cell_type": "code",
   "execution_count": 137,
   "metadata": {},
   "outputs": [
    {
     "name": "stdout",
     "output_type": "stream",
     "text": [
      "N: 5\n",
      "Mejor encontrado: 7\n",
      "Coste mínimo (actor-días): 7\n",
      "[[1, 2, 3, 4, 5]]\n",
      "N: 6\n",
      "Mejor encontrado: 7\n",
      "Coste mínimo (actor-días): 7\n",
      "[[1, 2, 3, 4, 5, 6]]\n",
      "N: 7\n",
      "Mejor encontrado: 11\n",
      "Mejor encontrado: 10\n",
      "Coste mínimo (actor-días): 10\n",
      "[[1, 2, 3, 4, 6, 7], [5]]\n",
      "N: 8\n",
      "Mejor encontrado: 12\n",
      "Coste mínimo (actor-días): 12\n",
      "[[1, 2, 3, 4, 5, 6], [7, 8]]\n",
      "N: 9\n",
      "Mejor encontrado: 12\n",
      "Coste mínimo (actor-días): 12\n",
      "[[1, 2, 3, 4, 5, 6], [7, 8, 9]]\n",
      "N: 10\n",
      "Mejor encontrado: 13\n",
      "Coste mínimo (actor-días): 13\n",
      "[[1, 2, 3, 4, 5, 6], [7, 8, 9, 10]]\n",
      "N: 11\n",
      "Mejor encontrado: 15\n",
      "Mejor encontrado: 13\n",
      "Coste mínimo (actor-días): 13\n",
      "[[1, 2, 3, 4, 5, 11], [6, 7, 8, 9, 10]]\n",
      "N: 12\n",
      "Mejor encontrado: 15\n",
      "Mejor encontrado: 14\n",
      "Coste mínimo (actor-días): 14\n",
      "[[1, 2, 3, 4, 5, 11], [6, 7, 8, 9, 10, 12]]\n",
      "N: 13\n",
      "Mejor encontrado: 19\n",
      "Mejor encontrado: 18\n",
      "Mejor encontrado: 17\n",
      "Coste mínimo (actor-días): 17\n",
      "[[1, 2, 3, 4, 5, 11], [6, 7, 8, 9, 12, 13], [10]]\n",
      "N: 14\n",
      "Mejor encontrado: 20\n",
      "Mejor encontrado: 19\n",
      "Mejor encontrado: 18\n",
      "Mejor encontrado: 17\n",
      "Coste mínimo (actor-días): 17\n",
      "[[1, 2, 3, 4, 5, 11], [6, 7, 9, 12, 13, 14], [8, 10]]\n",
      "N: 15\n",
      "Mejor encontrado: 22\n",
      "Mejor encontrado: 21\n",
      "Mejor encontrado: 20\n",
      "Mejor encontrado: 19\n",
      "Mejor encontrado: 18\n",
      "Coste mínimo (actor-días): 18\n",
      "[[1, 2, 3, 4, 5, 11], [6, 7, 9, 12, 13, 14], [8, 10, 15]]\n",
      "N: 16\n",
      "Mejor encontrado: 23\n",
      "Mejor encontrado: 22\n",
      "Mejor encontrado: 21\n",
      "Mejor encontrado: 20\n",
      "Mejor encontrado: 19\n"
     ]
    },
    {
     "ename": "KeyboardInterrupt",
     "evalue": "",
     "output_type": "error",
     "traceback": [
      "\u001b[31m---------------------------------------------------------------------------\u001b[39m",
      "\u001b[31mKeyboardInterrupt\u001b[39m                         Traceback (most recent call last)",
      "\u001b[36mCell\u001b[39m\u001b[36m \u001b[39m\u001b[32mIn[137]\u001b[39m\u001b[32m, line 12\u001b[39m\n\u001b[32m      6\u001b[39m tomas = \u001b[38;5;28mlist\u001b[39m(\u001b[38;5;28mrange\u001b[39m(\u001b[32m1\u001b[39m, n+\u001b[32m1\u001b[39m))    \n\u001b[32m      7\u001b[39m resultado = {\n\u001b[32m      8\u001b[39m     \u001b[33m\"\u001b[39m\u001b[33mmejor_coste\u001b[39m\u001b[33m\"\u001b[39m: \u001b[32m999999\u001b[39m,\n\u001b[32m      9\u001b[39m     \u001b[33m\"\u001b[39m\u001b[33mmejor_solucion\u001b[39m\u001b[33m\"\u001b[39m: []\n\u001b[32m     10\u001b[39m }\n\u001b[32m---> \u001b[39m\u001b[32m12\u001b[39m \u001b[43mbacktrack\u001b[49m\u001b[43m(\u001b[49m\u001b[43mtomas\u001b[49m\u001b[43m,\u001b[49m\u001b[43m \u001b[49m\u001b[43m[\u001b[49m\u001b[43m]\u001b[49m\u001b[43m,\u001b[49m\u001b[43m \u001b[49m\u001b[43mactores_en_toma\u001b[49m\u001b[43m,\u001b[49m\u001b[43m \u001b[49m\u001b[43mresultado\u001b[49m\u001b[43m)\u001b[49m\n\u001b[32m     14\u001b[39m \u001b[38;5;28mprint\u001b[39m(\u001b[33mf\u001b[39m\u001b[33m\"\u001b[39m\u001b[33mCoste mínimo (actor-días): \u001b[39m\u001b[38;5;132;01m{\u001b[39;00mresultado[\u001b[33m\"\u001b[39m\u001b[33mmejor_coste\u001b[39m\u001b[33m\"\u001b[39m]\u001b[38;5;132;01m}\u001b[39;00m\u001b[33m\"\u001b[39m)\n\u001b[32m     15\u001b[39m \u001b[38;5;28mprint\u001b[39m(resultado[\u001b[33m\"\u001b[39m\u001b[33mmejor_solucion\u001b[39m\u001b[33m\"\u001b[39m])\n",
      "\u001b[36mCell\u001b[39m\u001b[36m \u001b[39m\u001b[32mIn[136]\u001b[39m\u001b[32m, line 35\u001b[39m, in \u001b[36mbacktrack\u001b[39m\u001b[34m(pendientes, programacion_actual, actores_por_toma, solucion)\u001b[39m\n\u001b[32m     33\u001b[39m \u001b[38;5;28;01mif\u001b[39;00m \u001b[38;5;28mlen\u001b[39m(programacion_actual) < \u001b[38;5;28mlen\u001b[39m(pendientes):\n\u001b[32m     34\u001b[39m     programacion_actual.append([siguiente])\n\u001b[32m---> \u001b[39m\u001b[32m35\u001b[39m     \u001b[43mbacktrack\u001b[49m\u001b[43m(\u001b[49m\u001b[43mresto\u001b[49m\u001b[43m,\u001b[49m\u001b[43m \u001b[49m\u001b[43mprogramacion_actual\u001b[49m\u001b[43m,\u001b[49m\u001b[43m \u001b[49m\u001b[43mactores_por_toma\u001b[49m\u001b[43m,\u001b[49m\u001b[43m \u001b[49m\u001b[43msolucion\u001b[49m\u001b[43m)\u001b[49m\n\u001b[32m     36\u001b[39m     programacion_actual.pop()\n",
      "\u001b[36mCell\u001b[39m\u001b[36m \u001b[39m\u001b[32mIn[136]\u001b[39m\u001b[32m, line 35\u001b[39m, in \u001b[36mbacktrack\u001b[39m\u001b[34m(pendientes, programacion_actual, actores_por_toma, solucion)\u001b[39m\n\u001b[32m     33\u001b[39m \u001b[38;5;28;01mif\u001b[39;00m \u001b[38;5;28mlen\u001b[39m(programacion_actual) < \u001b[38;5;28mlen\u001b[39m(pendientes):\n\u001b[32m     34\u001b[39m     programacion_actual.append([siguiente])\n\u001b[32m---> \u001b[39m\u001b[32m35\u001b[39m     \u001b[43mbacktrack\u001b[49m\u001b[43m(\u001b[49m\u001b[43mresto\u001b[49m\u001b[43m,\u001b[49m\u001b[43m \u001b[49m\u001b[43mprogramacion_actual\u001b[49m\u001b[43m,\u001b[49m\u001b[43m \u001b[49m\u001b[43mactores_por_toma\u001b[49m\u001b[43m,\u001b[49m\u001b[43m \u001b[49m\u001b[43msolucion\u001b[49m\u001b[43m)\u001b[49m\n\u001b[32m     36\u001b[39m     programacion_actual.pop()\n",
      "\u001b[36mCell\u001b[39m\u001b[36m \u001b[39m\u001b[32mIn[136]\u001b[39m\u001b[32m, line 29\u001b[39m, in \u001b[36mbacktrack\u001b[39m\u001b[34m(pendientes, programacion_actual, actores_por_toma, solucion)\u001b[39m\n\u001b[32m     27\u001b[39m     \u001b[38;5;28;01mif\u001b[39;00m \u001b[38;5;28mlen\u001b[39m(programacion_actual[i]) < \u001b[32m6\u001b[39m:\n\u001b[32m     28\u001b[39m         programacion_actual[i].append(siguiente)\n\u001b[32m---> \u001b[39m\u001b[32m29\u001b[39m         \u001b[43mbacktrack\u001b[49m\u001b[43m(\u001b[49m\u001b[43mresto\u001b[49m\u001b[43m,\u001b[49m\u001b[43m \u001b[49m\u001b[43mprogramacion_actual\u001b[49m\u001b[43m,\u001b[49m\u001b[43m \u001b[49m\u001b[43mactores_por_toma\u001b[49m\u001b[43m,\u001b[49m\u001b[43m \u001b[49m\u001b[43msolucion\u001b[49m\u001b[43m)\u001b[49m\n\u001b[32m     30\u001b[39m         programacion_actual[i].pop()\n\u001b[32m     32\u001b[39m \u001b[38;5;66;03m# O crear un nuevo día\u001b[39;00m\n",
      "    \u001b[31m[... skipping similar frames: backtrack at line 35 (3 times)]\u001b[39m\n",
      "\u001b[36mCell\u001b[39m\u001b[36m \u001b[39m\u001b[32mIn[136]\u001b[39m\u001b[32m, line 29\u001b[39m, in \u001b[36mbacktrack\u001b[39m\u001b[34m(pendientes, programacion_actual, actores_por_toma, solucion)\u001b[39m\n\u001b[32m     27\u001b[39m     \u001b[38;5;28;01mif\u001b[39;00m \u001b[38;5;28mlen\u001b[39m(programacion_actual[i]) < \u001b[32m6\u001b[39m:\n\u001b[32m     28\u001b[39m         programacion_actual[i].append(siguiente)\n\u001b[32m---> \u001b[39m\u001b[32m29\u001b[39m         \u001b[43mbacktrack\u001b[49m\u001b[43m(\u001b[49m\u001b[43mresto\u001b[49m\u001b[43m,\u001b[49m\u001b[43m \u001b[49m\u001b[43mprogramacion_actual\u001b[49m\u001b[43m,\u001b[49m\u001b[43m \u001b[49m\u001b[43mactores_por_toma\u001b[49m\u001b[43m,\u001b[49m\u001b[43m \u001b[49m\u001b[43msolucion\u001b[49m\u001b[43m)\u001b[49m\n\u001b[32m     30\u001b[39m         programacion_actual[i].pop()\n\u001b[32m     32\u001b[39m \u001b[38;5;66;03m# O crear un nuevo día\u001b[39;00m\n",
      "    \u001b[31m[... skipping similar frames: backtrack at line 29 (3 times)]\u001b[39m\n",
      "\u001b[36mCell\u001b[39m\u001b[36m \u001b[39m\u001b[32mIn[136]\u001b[39m\u001b[32m, line 35\u001b[39m, in \u001b[36mbacktrack\u001b[39m\u001b[34m(pendientes, programacion_actual, actores_por_toma, solucion)\u001b[39m\n\u001b[32m     33\u001b[39m \u001b[38;5;28;01mif\u001b[39;00m \u001b[38;5;28mlen\u001b[39m(programacion_actual) < \u001b[38;5;28mlen\u001b[39m(pendientes):\n\u001b[32m     34\u001b[39m     programacion_actual.append([siguiente])\n\u001b[32m---> \u001b[39m\u001b[32m35\u001b[39m     \u001b[43mbacktrack\u001b[49m\u001b[43m(\u001b[49m\u001b[43mresto\u001b[49m\u001b[43m,\u001b[49m\u001b[43m \u001b[49m\u001b[43mprogramacion_actual\u001b[49m\u001b[43m,\u001b[49m\u001b[43m \u001b[49m\u001b[43mactores_por_toma\u001b[49m\u001b[43m,\u001b[49m\u001b[43m \u001b[49m\u001b[43msolucion\u001b[49m\u001b[43m)\u001b[49m\n\u001b[32m     36\u001b[39m     programacion_actual.pop()\n",
      "    \u001b[31m[... skipping similar frames: backtrack at line 29 (4 times)]\u001b[39m\n",
      "\u001b[36mCell\u001b[39m\u001b[36m \u001b[39m\u001b[32mIn[136]\u001b[39m\u001b[32m, line 29\u001b[39m, in \u001b[36mbacktrack\u001b[39m\u001b[34m(pendientes, programacion_actual, actores_por_toma, solucion)\u001b[39m\n\u001b[32m     27\u001b[39m     \u001b[38;5;28;01mif\u001b[39;00m \u001b[38;5;28mlen\u001b[39m(programacion_actual[i]) < \u001b[32m6\u001b[39m:\n\u001b[32m     28\u001b[39m         programacion_actual[i].append(siguiente)\n\u001b[32m---> \u001b[39m\u001b[32m29\u001b[39m         \u001b[43mbacktrack\u001b[49m\u001b[43m(\u001b[49m\u001b[43mresto\u001b[49m\u001b[43m,\u001b[49m\u001b[43m \u001b[49m\u001b[43mprogramacion_actual\u001b[49m\u001b[43m,\u001b[49m\u001b[43m \u001b[49m\u001b[43mactores_por_toma\u001b[49m\u001b[43m,\u001b[49m\u001b[43m \u001b[49m\u001b[43msolucion\u001b[49m\u001b[43m)\u001b[49m\n\u001b[32m     30\u001b[39m         programacion_actual[i].pop()\n\u001b[32m     32\u001b[39m \u001b[38;5;66;03m# O crear un nuevo día\u001b[39;00m\n",
      "\u001b[36mCell\u001b[39m\u001b[36m \u001b[39m\u001b[32mIn[136]\u001b[39m\u001b[32m, line 15\u001b[39m, in \u001b[36mbacktrack\u001b[39m\u001b[34m(pendientes, programacion_actual, actores_por_toma, solucion)\u001b[39m\n\u001b[32m     12\u001b[39m \u001b[38;5;28;01mdef\u001b[39;00m\u001b[38;5;250m \u001b[39m\u001b[34mbacktrack\u001b[39m(pendientes, programacion_actual, actores_por_toma, solucion):\n\u001b[32m     14\u001b[39m     \u001b[38;5;28;01mif\u001b[39;00m \u001b[38;5;129;01mnot\u001b[39;00m pendientes:\n\u001b[32m---> \u001b[39m\u001b[32m15\u001b[39m         coste = \u001b[43mcalcular_coste\u001b[49m\u001b[43m(\u001b[49m\u001b[43mprogramacion_actual\u001b[49m\u001b[43m,\u001b[49m\u001b[43m \u001b[49m\u001b[43mactores_por_toma\u001b[49m\u001b[43m,\u001b[49m\u001b[43m \u001b[49m\u001b[43mACTORES\u001b[49m\u001b[43m)\u001b[49m\n\u001b[32m     16\u001b[39m         \u001b[38;5;28;01mif\u001b[39;00m coste < solucion[\u001b[33m\"\u001b[39m\u001b[33mmejor_coste\u001b[39m\u001b[33m\"\u001b[39m]:\n\u001b[32m     17\u001b[39m             \u001b[38;5;28mprint\u001b[39m(\u001b[33m\"\u001b[39m\u001b[33mMejor encontrado:\u001b[39m\u001b[33m\"\u001b[39m, coste)\n",
      "\u001b[36mCell\u001b[39m\u001b[36m \u001b[39m\u001b[32mIn[136]\u001b[39m\u001b[32m, line 7\u001b[39m, in \u001b[36mcalcular_coste\u001b[39m\u001b[34m(programacion, actores_por_toma, num_actores)\u001b[39m\n\u001b[32m      5\u001b[39m presentes = \u001b[38;5;28mset\u001b[39m()\n\u001b[32m      6\u001b[39m \u001b[38;5;28;01mfor\u001b[39;00m t \u001b[38;5;129;01min\u001b[39;00m dia:\n\u001b[32m----> \u001b[39m\u001b[32m7\u001b[39m     \u001b[43mpresentes\u001b[49m\u001b[43m.\u001b[49m\u001b[43mupdate\u001b[49m\u001b[43m(\u001b[49m\u001b[43mactores_por_toma\u001b[49m\u001b[43m[\u001b[49m\u001b[43mt\u001b[49m\u001b[43m]\u001b[49m\u001b[43m)\u001b[49m\n\u001b[32m      8\u001b[39m \u001b[38;5;28;01mfor\u001b[39;00m a \u001b[38;5;129;01min\u001b[39;00m presentes:\n\u001b[32m      9\u001b[39m     dias_por_actor[a] += \u001b[32m1\u001b[39m\n",
      "\u001b[31mKeyboardInterrupt\u001b[39m: "
     ]
    }
   ],
   "source": [
    "# Ejecutar fuerza bruta con diferente # de tomas hasta que sea demasiado lento y paramos\n",
    "\n",
    "for n in range(5,30):\n",
    "\n",
    "    print(\"N:\", n)\n",
    "    tomas = list(range(1, n+1))    \n",
    "    resultado = {\n",
    "        \"mejor_coste\": 999999,\n",
    "        \"mejor_solucion\": []\n",
    "    }\n",
    "\n",
    "    backtrack(tomas, [], actores_en_toma, resultado)\n",
    "\n",
    "    print(f\"Coste mínimo (actor-días): {resultado[\"mejor_coste\"]}\")\n",
    "    print(resultado[\"mejor_solucion\"])\n"
   ]
  },
  {
   "cell_type": "markdown",
   "metadata": {},
   "source": [
    "# Optimizar el algoritmo"
   ]
  },
  {
   "cell_type": "markdown",
   "metadata": {},
   "source": [
    "## Poda con cota inferior\n",
    "\n",
    "\n",
    "calculamos un lower bound suponiendo que todos los pendientes pudieran agruparse en un solo día, sumamos el tamaño de la unión de actores de las pendientes al coste parcial y, si supera la mejor solución actual, cortamos la rama."
   ]
  },
  {
   "cell_type": "code",
   "execution_count": 109,
   "metadata": {},
   "outputs": [
    {
     "name": "stdout",
     "output_type": "stream",
     "text": [
      "Tomas: [1, 2, 3, 4, 5, 6, 7, 8, 9, 10, 11, 12, 13, 14, 15, 16, 17, 18, 19, 20, 21, 22, 23, 24, 25, 26, 27, 28, 29, 30]\n"
     ]
    }
   ],
   "source": [
    "tomas = list(range(1, TOMAS+1))\n",
    "print(\"Tomas:\", tomas)\n",
    "\n",
    "def calcular_coste(programacion, actores_por_toma, num_actores):\n",
    " \n",
    "    dias_por_actor = [0] * (num_actores + 1)\n",
    "    for dia in programacion:\n",
    "        presentes = set()\n",
    "        for t in dia:\n",
    "            presentes.update(actores_por_toma[t])\n",
    "        for a in presentes:\n",
    "            dias_por_actor[a] += 1\n",
    "    return sum(dias_por_actor[1:])\n",
    "\n",
    "def retroceder_opt(pendientes, programacion_actual, actores_por_toma, stats):\n",
    "    # Cálculo de coste parcial y poda vía cota inferior\n",
    "    coste_actual = calcular_coste(programacion_actual, actores_por_toma, ACTORES)\n",
    "    if coste_actual >= stats['mejor_coste']:\n",
    "        return\n",
    "    # cota: si todos los pendientes se hicieran en un único día\n",
    "    union_act = set()\n",
    "    for t in pendientes:\n",
    "        union_act.update(actores_por_toma[t])\n",
    "    if coste_actual + len(union_act) >= stats['mejor_coste']:\n",
    "        return\n",
    "\n",
    "    if not pendientes:\n",
    "        # solución completa\n",
    "        stats['mejor_coste'] = coste_actual\n",
    "        stats['mejor_programacion'] = [list(d) for d in programacion_actual]\n",
    "        print(f\"Mejor hasta ahora: coste={coste_actual}, programacion={stats['mejor_programacion']}\")\n",
    "        return\n",
    "\n",
    "    siguiente = pendientes[0]\n",
    "    resto = pendientes[1:]\n",
    "\n",
    "    # Probar en días existentes\n",
    "    for i in range(len(programacion_actual)):\n",
    "        if len(programacion_actual[i]) < 6:\n",
    "            programacion_actual[i].append(siguiente)\n",
    "            retroceder_opt(resto, programacion_actual, actores_por_toma, stats)\n",
    "            programacion_actual[i].pop()\n",
    "\n",
    "    # Probar creando nuevo día\n",
    "    if len(programacion_actual) < len(pendientes):\n",
    "        programacion_actual.append([siguiente])\n",
    "        retroceder_opt(resto, programacion_actual, actores_por_toma, stats)\n",
    "        programacion_actual.pop()\n",
    "\n"
   ]
  },
  {
   "cell_type": "code",
   "execution_count": 108,
   "metadata": {},
   "outputs": [
    {
     "name": "stdout",
     "output_type": "stream",
     "text": [
      "Mejor hasta ahora: coste=38, programacion=[[1, 2, 3, 4, 5, 6], [7, 8, 9, 10, 11, 12], [13, 14, 15, 16, 17, 18], [19, 20, 21, 22, 23, 24], [25, 26, 27, 28, 29, 30]]\n",
      "Mejor hasta ahora: coste=35, programacion=[[1, 2, 3, 4, 5, 6], [7, 8, 9, 10, 11, 12], [13, 14, 15, 17, 20, 22], [16, 25, 26, 27, 28, 29], [18, 19, 21, 23, 24, 30]]\n",
      "Mejor hasta ahora: coste=31, programacion=[[1, 2, 3, 4, 5, 6], [7, 9, 11, 13, 15, 20], [8, 10, 12, 14, 22, 26], [16, 25, 27, 28, 29, 30], [17, 18, 19, 21, 23, 24]]\n",
      "\n",
      "Resultado óptimo final: coste=31\n",
      "Día  1: tomas [1, 2, 3, 4, 5, 6]\n",
      "Día  2: tomas [7, 9, 11, 13, 15, 20]\n",
      "Día  3: tomas [8, 10, 12, 14, 22, 26]\n",
      "Día  4: tomas [16, 25, 27, 28, 29, 30]\n",
      "Día  5: tomas [17, 18, 19, 21, 23, 24]\n",
      "CPU times: user 4.43 s, sys: 4 ms, total: 4.44 s\n",
      "Wall time: 4.44 s\n"
     ]
    }
   ],
   "source": [
    "%%time\n",
    "\n",
    "stats = {'mejor_coste': float('inf'), 'mejor_programacion': None}\n",
    "retroceder_opt(tomas, [], actores_en_toma, stats)\n",
    "\n",
    "print(f\"\\nResultado óptimo final: coste={stats['mejor_coste']}\")\n",
    "for dia, grupo in enumerate(stats['mejor_programacion'], start=1):\n",
    "    print(f\"Día {dia:2d}: tomas {grupo}\")"
   ]
  },
  {
   "cell_type": "markdown",
   "metadata": {},
   "source": [
    "# Preguntas"
   ]
  },
  {
   "cell_type": "markdown",
   "metadata": {},
   "source": [
    "## ¿Cuantas posibilidades hay sin tener en cuenta las restricciones?\n",
    "\n",
    "Se trata de encontrar todas las formas posibles de agrupar 30 tomas en días de rodaje.\n",
    "Esto es un problema combinatorio conocido como \"partición de un conjunto\".\n",
    "\n",
    "El número de maneras de particionar un conjunto de n elementos se conoce como el número de Bell, \n",
    "\n",
    "El valor de B30  ≈8.467×10^23\n",
    "\n"
   ]
  },
  {
   "cell_type": "markdown",
   "metadata": {},
   "source": [
    "##  ¿Cuantas posibilidades hay teniendo en cuenta todas las restricciones.\n",
    "\n",
    "La restriccion que tenemos es que podemos hacer un máximo de 6 tomas por día.\n",
    "\n",
    "B(30,6)≈7.26391948970868949621309×10^23\n"
   ]
  },
  {
   "cell_type": "markdown",
   "metadata": {},
   "source": [
    "## ¿Cual es la estructura de datos que mejor se adapta al problema? Argumenta la respuesta\n",
    "\n",
    "He utilizado un dicionario para guardar la información de las tomas en que cada actor participa y un set al calcular el coste.\n",
    "\n",
    "El dicionario y el set utilizan \"hash\" internamente lo que me permite encontrar un actor o saber si un elemento está en el set en O(1).\n",
    "\n",
    "La solución es una lista de días, donde cada elemento es una lista con las tomas de un día. \n",
    "\n",
    "La lista es conveniente porque me permite adicionar al final o remover el último elemento de la lista en O(1).\n"
   ]
  },
  {
   "cell_type": "markdown",
   "metadata": {},
   "source": [
    "## ¿Cual es la función objetivo?\n",
    "\n",
    "El coste total de la planificación en \"actor-días\".\n",
    "Cada actor cobra por día trabajado.\n",
    "Así que sumamos para cada día la cantidad de actores que han trabajado.\n",
    "\n"
   ]
  },
  {
   "cell_type": "markdown",
   "metadata": {},
   "source": [
    "## ¿Es un problema de maximización o minimización?\n",
    "\n",
    "Es un problema de minimización.\n",
    "\n",
    "El objetivo es encontrar la planificación con el menor coste posible.<br>\n",
    " El algoritmo busca reducir el número total de \"actor-días\" para hacer la producción más barata."
   ]
  },
  {
   "cell_type": "markdown",
   "metadata": {},
   "source": [
    "## Diseña un algoritmo para resolver el problema por fuerza bruta. Calcula la complejidad del algoritmo por fuerza bruta.\n",
    "\n",
    "El algoritmo por fuerza bruta prueba todas las combinaciones de tomas de modo que tiene O(n!), donde n representa el número de tomas.\n",
    "\n",
    "\n"
   ]
  },
  {
   "cell_type": "markdown",
   "metadata": {},
   "source": [
    "## Diseña un algoritmo que mejore la complejidad del algoritmo por fuerza bruta. Argumenta porque crees que mejora el algoritmo por fuerza bruta. Calcula la complejidad del algoritmo.\n",
    "\n",
    "El algoritmo optimizado mejora el por fuerza bruta porque deja de seguir un camino cuando este supera el mejor coste encontrado hasta el momento. \n",
    "\n",
    "La prueba de la mejora es que el algoritmo termina su ejecución.\n",
    "\n",
    "En el peor caso, el algoritmo tendría que hacer todas las combinaciones para encontrar el mejor resultado (lo que no suele pasar) de modo que la complejidad sigue siendo O(n!).\n"
   ]
  },
  {
   "cell_type": "markdown",
   "metadata": {},
   "source": [
    "## Según el problema (y tenga sentido), diseña un juego de datos de entrada aleatorio. Aplica el algoritmo al juego de datos aleatorio generado.\n",
    "\n",
    "Podemos generar un conjunto de datos aleatorio simplemente generando al azar la lista de las tomas en que cada ator participa. \n"
   ]
  },
  {
   "cell_type": "code",
   "execution_count": 132,
   "metadata": {},
   "outputs": [
    {
     "name": "stdout",
     "output_type": "stream",
     "text": [
      "{1: [1, 2, 5],\n",
      " 2: [1, 2, 7],\n",
      " 3: [1, 3, 6],\n",
      " 4: [1, 3, 4, 10],\n",
      " 5: [1, 2],\n",
      " 6: [1, 2, 3],\n",
      " 7: [5, 7, 8],\n",
      " 8: [6, 8, 9],\n",
      " 9: [1, 5, 6, 7, 9],\n",
      " 10: [7, 9],\n",
      " 11: [2, 5, 8],\n",
      " 12: [2, 6, 7, 9],\n",
      " 13: [6, 10],\n",
      " 14: [1, 6],\n",
      " 15: [5, 8],\n",
      " 16: [3, 9],\n",
      " 17: [1, 3, 8],\n",
      " 18: [5, 6],\n",
      " 19: [2, 10],\n",
      " 20: [1, 7, 9, 10],\n",
      " 21: [1, 5, 6],\n",
      " 22: [6, 7],\n",
      " 23: [2, 7],\n",
      " 24: [1, 2],\n",
      " 25: [5, 6, 7],\n",
      " 26: [2, 3, 7, 9],\n",
      " 27: [1, 7],\n",
      " 28: [6, 8],\n",
      " 29: [3, 9],\n",
      " 30: [2, 6, 9]}\n"
     ]
    }
   ],
   "source": [
    "import random \n",
    "\n",
    "random.seed(123)\n",
    "\n",
    "MAX_POR_TOMA = 5\n",
    "actores_en_toma_ale = dict()\n",
    "\n",
    "for idx in range(1, TOMAS+1):\n",
    "    \n",
    "    sample = random.sample(actores, MAX_POR_TOMA)\n",
    "    sample_int = [int(el) for el in sample]\n",
    "    n = random.choice([ 2, 2, 2, 2, 3, 3, 4, 5])\n",
    "    sample_int = sample_int[0:n]\n",
    "    sample_int.sort()\n",
    "    actores_en_toma_ale[idx] = sample_int\n",
    "\n",
    "pprint(actores_en_toma_ale)"
   ]
  },
  {
   "cell_type": "markdown",
   "metadata": {},
   "source": [
    "Verificamos que el algoritmo funciona para el conjunto aleatorio:"
   ]
  },
  {
   "cell_type": "code",
   "execution_count": 133,
   "metadata": {},
   "outputs": [
    {
     "name": "stdout",
     "output_type": "stream",
     "text": [
      "Mejor hasta ahora: coste=37, programacion=[[1, 2, 3, 4, 5, 6], [7, 8, 9, 10, 11, 12], [13, 14, 15, 16, 17, 18], [19, 20, 21, 22, 23, 24], [25, 26, 27, 28, 29, 30]]\n",
      "Mejor hasta ahora: coste=32, programacion=[[1, 2, 3, 4, 5, 6], [7, 11, 15, 23, 27, 28], [8, 14, 16, 17, 29, 30], [9, 10, 18, 21, 22, 25], [12, 13, 19, 20, 24, 26]]\n",
      "\n",
      "Resultado óptimo final: coste=32\n",
      "Día  1: tomas [1, 2, 3, 4, 5, 6]\n",
      "Día  2: tomas [7, 11, 15, 23, 27, 28]\n",
      "Día  3: tomas [8, 14, 16, 17, 29, 30]\n",
      "Día  4: tomas [9, 10, 18, 21, 22, 25]\n",
      "Día  5: tomas [12, 13, 19, 20, 24, 26]\n",
      "CPU times: user 18.2 s, sys: 2 ms, total: 18.2 s\n",
      "Wall time: 18.2 s\n"
     ]
    }
   ],
   "source": [
    "%%time \n",
    "\n",
    "stats2 = {'mejor_coste': float('inf'), 'mejor_programacion': None}\n",
    "\n",
    "retroceder_opt(tomas, [], actores_en_toma_ale, stats2)\n",
    "\n",
    "print(f\"\\nResultado óptimo final: coste={stats2['mejor_coste']}\")\n",
    "for dia, grupo in enumerate(stats2['mejor_programacion'], start=1):\n",
    "    print(f\"Día {dia:2d}: tomas {grupo}\")"
   ]
  },
  {
   "cell_type": "markdown",
   "metadata": {},
   "source": [
    "## Enumera las referencias que has utilizado(si ha sido necesario) para llevar a cabo el trabajo\n",
    "\n",
    "\n",
    "Por qué recibo el error RecursionError: maximum recursion depth exceeded\n",
    "https://es.stackoverflow.com/questions/355554/por-qu%C3%A9-recibo-el-error-recursionerror-maximum-recursion-depth-exceeded \n",
    "es.stackoverflow.com\n",
    "\n",
    "Ejemplo de algoritmo de backtracking con condicional en Python\n",
    "https://es.stackoverflow.com/questions/37964/algoritmo-de-backtracking-con-condicional-python \n",
    "es.stackoverflow.com\n",
    "\n",
    "Número de Bell\n",
    "https://es.wikipedia.org/wiki/N%C3%BAmero_de_Bell \n",
    "es.wikipedia.org\n",
    "\n",
    "Vuelta atrás (Backtracking)\n",
    "https://es.wikipedia.org/wiki/Vuelta_atr%C3%A1s \n",
    "es.wikipedia.org\n",
    "\n",
    "Ramificación y poda (Branch & Bound)\n",
    "https://es.wikipedia.org/wiki/Ramificaci%C3%B3n_y_poda \n",
    "es.wikipedia.org\n",
    "\n",
    "https://stackoverflow.com/questions/1637745/how-to-generally-approach-backtracking-problems\n",
    "\n",
    "https://stackoverflow.com/questions/1340177/what-is-the-difference-between-backtracking-and-branch-and-bound\n",
    "\n",
    "https://stackoverflow.com/questions/3323001/what-is-the-maximum-recursion-depth-in-python-and-how-to-increase-it\n"
   ]
  },
  {
   "cell_type": "markdown",
   "metadata": {},
   "source": [
    "## Describe brevemente en unas líneas como crees que es posible avanzar en el estudio del problema. Ten en cuenta incluso posibles variaciones del problema y/o variaciones al alza del tamaño."
   ]
  },
  {
   "cell_type": "markdown",
   "metadata": {},
   "source": [
    "### Optimización del Algoritmo: \n",
    "\n",
    "Podría mejorarse con heurísticas para la selección de nodos. \n",
    "\n",
    "En lugar de explorar las tomas en orden numérico, se podría priorizar aquellas que son más \"difíciles\" de planificar (p. ej., las que involucran a actores que participan en pocas escenas), con el fin de  podar el árbol de búsqueda de forma más agresiva.\n",
    "\n",
    "### Algoritmos Aproximados: \n",
    "\n",
    "Para tamaños muy grandes la búsqueda de la solución óptima garantizada se vuelve inviable. \n",
    "\n",
    "El siguiente paso sería implementar algoritmos que encuentren soluciones muy buenas en un tiempo razonable, aunque no sean necesariamente las óptimas.\n",
    "\n",
    "### Restricciones del Mundo Real: \n",
    "\n",
    "El problema se puede enriquecer con variaciones que lo hagan más realistas:\n",
    "\n",
    "* Disponibilidad de Actores: añadir calendarios para los actores, osea en qué dias está disponible cada actor. \n",
    "\n",
    "* Precedencia de Escenas: incluir restricciones donde una toma debe rodarse antes que otra.\n",
    "\n",
    "### Paralelismo\n",
    "\n",
    "Se podría utilizar multiples procesos para resolver el problema más rapidamente. \n",
    "\n",
    "En nuestro ordenador lo hemos intentado pero no hemos tenido una mejora en los tiempos, posiblemente por tener pocos \"cores\" disponibles."
   ]
  },
  {
   "cell_type": "markdown",
   "metadata": {},
   "source": []
  }
 ],
 "metadata": {
  "kernelspec": {
   "display_name": "venv",
   "language": "python",
   "name": "python3"
  },
  "language_info": {
   "codemirror_mode": {
    "name": "ipython",
    "version": 3
   },
   "file_extension": ".py",
   "mimetype": "text/x-python",
   "name": "python",
   "nbconvert_exporter": "python",
   "pygments_lexer": "ipython3",
   "version": "3.12.3"
  }
 },
 "nbformat": 4,
 "nbformat_minor": 2
}
